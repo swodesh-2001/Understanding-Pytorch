{
 "cells": [
  {
   "cell_type": "markdown",
   "metadata": {},
   "source": [
    "## Going through torch.utils.tensorboard\n",
    "\n"
   ]
  },
  {
   "cell_type": "markdown",
   "metadata": {},
   "source": [
    "To log data for visualization by Tensorboard we use SummaryWriter class."
   ]
  },
  {
   "cell_type": "markdown",
   "metadata": {},
   "source": [
    "To instantiate SummaryWriter :\n",
    "\n",
    "```python\n",
    "from torch.utils.tensorboard import SummaryWriter\n",
    "writer = SummaryWriter()\n",
    "```"
   ]
  },
  {
   "cell_type": "markdown",
   "metadata": {},
   "source": [
    "Lets read data from the dataset and log it into the tensorboard."
   ]
  },
  {
   "cell_type": "code",
   "execution_count": 48,
   "metadata": {},
   "outputs": [],
   "source": [
    "import torch\n",
    "import torch.utils\n",
    "import torchvision\n",
    "from torch.utils.tensorboard import SummaryWriter\n",
    "from torchvision import datasets,transforms\n",
    "from torch.utils.data import DataLoader\n",
    "\n",
    "# lets create a writer object\n",
    "writer = SummaryWriter()\n",
    "transform = transforms.Compose([\n",
    "    transforms.Resize((100,100)),\n",
    "    transforms.ToTensor()\n",
    "    ])\n",
    "\n",
    "train_data = datasets.FashionMNIST( \n",
    "    root= '../data' ,\n",
    "    train= True,\n",
    "    download= True,\n",
    "   transform = transform\n",
    ")\n",
    "\n",
    "trainloader = DataLoader(train_data, batch_size = 20 , shuffle = True)"
   ]
  },
  {
   "cell_type": "markdown",
   "metadata": {},
   "source": [
    "Now lets get the first batch of our data. "
   ]
  },
  {
   "cell_type": "code",
   "execution_count": 49,
   "metadata": {},
   "outputs": [],
   "source": [
    "first_batch = next(iter(trainloader))"
   ]
  },
  {
   "cell_type": "markdown",
   "metadata": {},
   "source": [
    "first_batch has two parts, one is the image data and another is the label "
   ]
  },
  {
   "cell_type": "code",
   "execution_count": 50,
   "metadata": {},
   "outputs": [],
   "source": [
    "images = first_batch[0]\n",
    "labels = first_batch[1]"
   ]
  },
  {
   "cell_type": "markdown",
   "metadata": {},
   "source": [
    "the data loader returns tuple of image and list , so we can directly assign them such as :"
   ]
  },
  {
   "cell_type": "code",
   "execution_count": 51,
   "metadata": {},
   "outputs": [],
   "source": [
    "first_batch_images , first_batch_labels = next(iter(trainloader))"
   ]
  },
  {
   "cell_type": "code",
   "execution_count": 52,
   "metadata": {},
   "outputs": [
    {
     "data": {
      "text/plain": [
       "Text(0.5, 1.0, 'tensor(6)')"
      ]
     },
     "execution_count": 52,
     "metadata": {},
     "output_type": "execute_result"
    },
    {
     "data": {
      "image/png": "[encoded data removed]",
      "text/plain": [
       "<Figure size 640x480 with 1 Axes>"
      ]
     },
     "metadata": {},
     "output_type": "display_data"
    }
   ],
   "source": [
    "import matplotlib.pyplot as plt\n",
    "plt.imshow( first_batch_images[0].permute(1,2,0))\n",
    "plt.title(first_batch_labels[0])"
   ]
  },
  {
   "cell_type": "code",
   "execution_count": 53,
   "metadata": {},
   "outputs": [
    {
     "data": {
      "text/plain": [
       "torch.Size([20, 1, 100, 100])"
      ]
     },
     "execution_count": 53,
     "metadata": {},
     "output_type": "execute_result"
    }
   ],
   "source": [
    "first_batch_images.shape"
   ]
  },
  {
   "cell_type": "code",
   "execution_count": 55,
   "metadata": {},
   "outputs": [
    {
     "data": {
      "text/plain": [
       "torch.Size([3, 308, 818])"
      ]
     },
     "execution_count": 55,
     "metadata": {},
     "output_type": "execute_result"
    }
   ],
   "source": [
    "### Adding image grid into the tensorboard graph.\n",
    "grid = torchvision.utils.make_grid(first_batch_images)\n",
    "grid.shape"
   ]
  },
  {
   "cell_type": "code",
   "execution_count": 56,
   "metadata": {},
   "outputs": [],
   "source": [
    "writer.add_image('images', grid, 0)  \n",
    "writer.close()"
   ]
  },
  {
   "cell_type": "markdown",
   "metadata": {},
   "source": [
    "![image_graph](./image/image_graph.png)"
   ]
  },
  {
   "cell_type": "markdown",
   "metadata": {},
   "source": [
    "Lets look at some parameters of the `SummaryWriter` :\n",
    "\n",
    "* `log_dir(str)` : Save directory location\n",
    "* `comment(str)` : Suffix that will added to `log_dir`\n",
    "* `max_queue (int)` : Size of the queue for pending events and summaries before one of the ‘add’ calls forces a flush to disk. Default is ten items.\n",
    "* `flush_secs (int)` : Often time to log data. Default is every two minutes.\n"
   ]
  },
  {
   "cell_type": "code",
   "execution_count": 61,
   "metadata": {},
   "outputs": [],
   "source": [
    "writer = SummaryWriter()"
   ]
  },
  {
   "cell_type": "markdown",
   "metadata": {},
   "source": [
    "> folder_location of log data : runs/Jun12_10-29-11_nitroV"
   ]
  },
  {
   "cell_type": "code",
   "execution_count": 62,
   "metadata": {},
   "outputs": [],
   "source": [
    "writer = SummaryWriter(\"log_data\")"
   ]
  },
  {
   "cell_type": "markdown",
   "metadata": {},
   "source": [
    "> folder_location of log data : log_data"
   ]
  },
  {
   "cell_type": "code",
   "execution_count": 66,
   "metadata": {},
   "outputs": [],
   "source": [
    "writer = SummaryWriter(comment= \"Try1\")"
   ]
  },
  {
   "cell_type": "markdown",
   "metadata": {},
   "source": [
    "> folder_location of log data : runs/Jun12_10-33-48_nitroVTry1"
   ]
  },
  {
   "cell_type": "markdown",
   "metadata": {},
   "source": [
    "## Grouping plots together\n",
    "\n",
    "There will be a lot of data that will be generated in an experiment. So , to present information in a proper way and avoid cluttering we can group plots and name them hierrarchically."
   ]
  },
  {
   "cell_type": "markdown",
   "metadata": {},
   "source": [
    "### Adding Scalar Data\n",
    "\n",
    "```python\n",
    "writer.add_scalar('Tag' , scalar_value = scalar_data , global_step = current_count_step )\n",
    "```"
   ]
  },
  {
   "cell_type": "code",
   "execution_count": 59,
   "metadata": {},
   "outputs": [],
   "source": [
    "from torch.utils.tensorboard import SummaryWriter\n",
    "import numpy as np\n",
    "\n",
    "writer = SummaryWriter()\n",
    "\n",
    "for n_iter in range(100):\n",
    "    writer.add_scalar('Group1/data1', np.random.random(), n_iter)\n",
    "    writer.add_scalar('Group1/data2', np.random.random(), n_iter)\n",
    "    writer.add_scalar('Group2/data1', np.random.random(), n_iter)\n",
    "    writer.add_scalar('Group2/data2', np.random.random(), n_iter)"
   ]
  },
  {
   "cell_type": "markdown",
   "metadata": {},
   "source": [
    "![grouped_data](./image/grouped_data.png)"
   ]
  },
  {
   "cell_type": "markdown",
   "metadata": {},
   "source": [
    "### Adding Scalars Data"
   ]
  },
  {
   "cell_type": "markdown",
   "metadata": {},
   "source": [
    "```python\n",
    "writer.add_scalars(main_tag, tag_scalar_dict, global_step=None, walltime=None)\n",
    "```\n",
    "\n",
    "`main_tag(str) `: The parent name for the tags  \n",
    "`tag_scalar_dict(dict)` : Multiple Data, in the format Key-value pair ( dictionary)  \n",
    "`global_step(int)` : Global step value to record  "
   ]
  },
  {
   "cell_type": "code",
   "execution_count": 67,
   "metadata": {},
   "outputs": [],
   "source": [
    "from torch.utils.tensorboard import SummaryWriter\n",
    "writer = SummaryWriter()\n",
    "r = 5\n",
    "for i in range(100):\n",
    "    writer.add_scalars('scalars_data', {'xsinx':i*np.sin(i/r),\n",
    "                                    'xcosx':i*np.cos(i/r),\n",
    "                                    'tanx': np.tan(i/r)}, i)\n",
    "writer.close()"
   ]
  },
  {
   "cell_type": "markdown",
   "metadata": {},
   "source": [
    "![scalars_data](./image/scalars_data.png)"
   ]
  },
  {
   "cell_type": "markdown",
   "metadata": {},
   "source": [
    "### Adding Histograms"
   ]
  },
  {
   "cell_type": "markdown",
   "metadata": {},
   "source": [
    "```python\n",
    "writer.add_histogram('Tag', data, global_step , bins)\n",
    "```\n",
    "\n",
    "`tag (str)` – Data identifier\n",
    "\n",
    "`values `(torch.Tensor, numpy.ndarray, or string/blobname) – Values to build histogram\n",
    "\n",
    "`global_step (int) `– Global step value to record\n",
    "\n",
    "`bins (str)` – One of {‘tensorflow’,’auto’, ‘fd’, …}. This determines how the bins are made"
   ]
  },
  {
   "cell_type": "code",
   "execution_count": 69,
   "metadata": {},
   "outputs": [],
   "source": [
    "from torch.utils.tensorboard import SummaryWriter\n",
    "import numpy as np\n",
    "writer = SummaryWriter()\n",
    "for i in range(10):\n",
    "    x = np.random.random(1000)\n",
    "    writer.add_histogram('distribution centers', x + i, i)\n",
    "writer.close()"
   ]
  },
  {
   "cell_type": "markdown",
   "metadata": {},
   "source": [
    "![histogram](./image/histograms_tensorboard.png)"
   ]
  },
  {
   "cell_type": "markdown",
   "metadata": {},
   "source": [
    "### Adding Image :\n",
    "\n",
    "```python\n",
    "writer.add_image( 'tag', img_tensor , global_step , dataformats)\n",
    "```\n",
    "dataformats : Image data format specification of the form CHW, HWC, HW, WH, etc. \n",
    "\n",
    "Where `H` refers to `height`, `W` refers to `width` and `C` refers to `channel`.\n"
   ]
  },
  {
   "cell_type": "markdown",
   "metadata": {},
   "source": [
    "### Adding Images :\n",
    "\n",
    "Add batched image data to summary. Requires `pillow` package.\n",
    "\n",
    "```python\n",
    "writer.add_image( 'tag', img_tensor , global_step , dataformats)\n",
    "```\n",
    "dataformats (str) – Image data format specification of the form NCHW, NHWC, CHW, HWC, HW, WH, etc.\n",
    "\n",
    "Where `H` refers to `height`, `W` refers to `width`, `N`refers to number of images in batch and `C` refers to `channel`"
   ]
  },
  {
   "cell_type": "markdown",
   "metadata": {},
   "source": [
    "Similarly there are various logging methods such as :\n",
    "\n",
    "### Adding figure\n",
    "\n",
    "Render matplotlib figure into an image and add it to summary.\n",
    "\n",
    "```python\n",
    "add_figure(tag, figure, global_step=None, close=True, walltime=None)\n",
    "```\n",
    "figure (Union[Figure, List[Figure]]) – Figure or a list of figures\n",
    "\n",
    "close (bool) – Flag to automatically close the figure\n"
   ]
  },
  {
   "cell_type": "markdown",
   "metadata": {},
   "source": [
    "### Adding text\n",
    "```python\n",
    "writer.add_text('lstm', 'This is an lstm', 0)\n",
    "writer.add_text('rnn', 'This is an rnn', 10)\n",
    "```"
   ]
  },
  {
   "cell_type": "markdown",
   "metadata": {},
   "source": [
    "### Adding Graph\n",
    "\n",
    "Add graph data to summary.\n",
    "```python\n",
    "add_graph(model, input_to_model=None, verbose=False, use_strict_trace=True)\n",
    "```\n",
    "\n",
    "Parameters\n",
    "\n",
    "        model (torch.nn.Module) – Model to draw.\n",
    "\n",
    "        input_to_model (torch.Tensor or list of torch.Tensor) – A variable or a tuple of variables to be fed.\n",
    "\n",
    "        verbose (bool) – Whether to print graph structure in console.\n",
    "\n",
    "        use_strict_trace (bool) – Whether to pass keyword argument strict to torch.jit.trace. Pass False when you want the tracer to record your mutable container types (list, dict)\n",
    "\n",
    "\n"
   ]
  },
  {
   "cell_type": "code",
   "execution_count": 70,
   "metadata": {},
   "outputs": [],
   "source": [
    "import torch\n",
    "import torch.nn as nn\n",
    "from torch.utils.tensorboard import SummaryWriter\n",
    "\n",
    "# Define a simple neural network model\n",
    "class SimpleModel(nn.Module):\n",
    "    def __init__(self):\n",
    "        super(SimpleModel, self).__init__()\n",
    "        self.fc1 = nn.Linear(10, 50)\n",
    "        self.relu = nn.ReLU()\n",
    "        self.fc2 = nn.Linear(50, 1)\n",
    "\n",
    "    def forward(self, x):\n",
    "        x = self.fc1(x)\n",
    "        x = self.relu(x)\n",
    "        x = self.fc2(x)\n",
    "        return x\n",
    "\n",
    "# Initialize the model\n",
    "model = SimpleModel()\n",
    "\n",
    "# Create a dummy input tensor with the same shape as the input data\n",
    "dummy_input = torch.randn(1, 10)\n",
    "\n",
    "# Initialize SummaryWriter for TensorBoard\n",
    "writer = SummaryWriter()\n",
    "\n",
    "# Add the model graph to TensorBoard\n",
    "writer.add_graph(model, input_to_model=dummy_input, verbose=False, use_strict_trace=True)\n",
    "\n",
    "# Close the writer\n",
    "writer.close()\n"
   ]
  },
  {
   "cell_type": "markdown",
   "metadata": {},
   "source": [
    "![model_graph](./image/model_graph.png)"
   ]
  }
 ],
 "metadata": {
  "kernelspec": {
   "display_name": "ekbana",
   "language": "python",
   "name": "python3"
  },
  "language_info": {
   "codemirror_mode": {
    "name": "ipython",
    "version": 3
   },
   "file_extension": ".py",
   "mimetype": "text/x-python",
   "name": "python",
   "nbconvert_exporter": "python",
   "pygments_lexer": "ipython3",
   "version": "3.10.12"
  }
 },
 "nbformat": 4,
 "nbformat_minor": 2
}
