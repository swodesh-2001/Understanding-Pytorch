{
 "cells": [
  {
   "cell_type": "markdown",
   "metadata": {},
   "source": [
    "## Optimizing Model Parameters"
   ]
  },
  {
   "cell_type": "markdown",
   "metadata": {},
   "source": [
    "To optimize the model parameters gradient descent is done on the function whose lose function is convex and differentiable."
   ]
  },
  {
   "cell_type": "markdown",
   "metadata": {},
   "source": [
    "Lets combine all the codes that we did till now and train a simple Fashion Mnist classification model"
   ]
  },
  {
   "cell_type": "markdown",
   "metadata": {},
   "source": [
    "#### Importing necessary libraries"
   ]
  },
  {
   "cell_type": "code",
   "execution_count": 180,
   "metadata": {},
   "outputs": [],
   "source": [
    "import torch\n",
    "from torch import nn\n",
    "from torch.utils.data import DataLoader\n",
    "from torchvision import datasets\n",
    "from torchvision.transforms import ToTensor\n"
   ]
  },
  {
   "cell_type": "markdown",
   "metadata": {},
   "source": [
    "#### Loading the data"
   ]
  },
  {
   "cell_type": "code",
   "execution_count": 181,
   "metadata": {},
   "outputs": [],
   "source": [
    "\n",
    "training_data = datasets.FashionMNIST(\n",
    "    root=\"data\",\n",
    "    train=True,\n",
    "    download=True,\n",
    "    transform=ToTensor()\n",
    ")\n",
    "\n",
    "test_data = datasets.FashionMNIST(\n",
    "    root=\"data\",\n",
    "    train=False,\n",
    "    download=True,\n",
    "    transform=ToTensor()\n",
    ")\n",
    "\n",
    "train_dataloader = DataLoader(training_data, batch_size=64)\n",
    "test_dataloader = DataLoader(test_data, batch_size=64)"
   ]
  },
  {
   "cell_type": "markdown",
   "metadata": {},
   "source": [
    "#### Defining Neural Network class"
   ]
  },
  {
   "cell_type": "code",
   "execution_count": 182,
   "metadata": {},
   "outputs": [],
   "source": [
    "class NeuralNetwork(nn.Module):\n",
    "    def __init__(self):\n",
    "        super().__init__()\n",
    "        self.flatten = nn.Flatten()\n",
    "        self.linear_relu_stack = nn.Sequential(\n",
    "            nn.Linear(28*28, 512),\n",
    "            nn.ReLU(),\n",
    "            nn.Linear(512, 512),\n",
    "            nn.ReLU(),\n",
    "            nn.Linear(512, 10),\n",
    "        )\n",
    "\n",
    "    def forward(self, x):\n",
    "        x = self.flatten(x)\n",
    "        logits = self.linear_relu_stack(x)\n",
    "        return logits\n",
    "\n",
    "model = NeuralNetwork()"
   ]
  },
  {
   "cell_type": "code",
   "execution_count": 183,
   "metadata": {},
   "outputs": [
    {
     "name": "stdout",
     "output_type": "stream",
     "text": [
      "NeuralNetwork(\n",
      "  (flatten): Flatten(start_dim=1, end_dim=-1)\n",
      "  (linear_relu_stack): Sequential(\n",
      "    (0): Linear(in_features=784, out_features=512, bias=True)\n",
      "    (1): ReLU()\n",
      "    (2): Linear(in_features=512, out_features=512, bias=True)\n",
      "    (3): ReLU()\n",
      "    (4): Linear(in_features=512, out_features=10, bias=True)\n",
      "  )\n",
      ")\n"
     ]
    }
   ],
   "source": [
    "print(model)"
   ]
  },
  {
   "cell_type": "markdown",
   "metadata": {},
   "source": [
    "### Hyperparameters \n",
    "\n",
    "They inturn control the parameters of the model. They are adjustable unlike the model parameters and we perform hyperparameter tuning for the best results.\n",
    "\n",
    "Some of the hyper parameters are :\n",
    "\n",
    "* epochs : times to iterate over the dataset\n",
    "* batch size : number of dataset to be included in a training at a time\n",
    "* learning rate : contribution of gradients in updating model parameters"
   ]
  },
  {
   "cell_type": "markdown",
   "metadata": {},
   "source": [
    "## Loss function\n",
    "\n",
    "It measures the degree of dissimilarity of obtained result to the target value, and it is the loss function that we want to minimize during training. By differentiating the loss function with the variables that we want to update we can calculate their gradient.\n",
    "\n",
    "some of the loss function are :\n",
    "\n",
    "| Loss Function                 | Description                                                                                      | Mathematical Formula                                                                                             |\n",
    "|-------------------------------|--------------------------------------------------------------------------------------------------|-----------------------------------------------------------------------------------------------------------------|\n",
    "| `nn.CrossEntropyLoss`         | Combines `nn.LogSoftmax` and `nn.NLLLoss` in one single class. It is useful for classification tasks. | \\(\\text{CrossEntropy}(x, y) = - \\sum_{i} y_i \\log \\left(\\frac{\\exp(x_i)}{\\sum_j \\exp(x_j)}\\right)\\)              |\n",
    "| `nn.MSELoss`                  | Mean Squared Error Loss. Measures the average of the squares of the errors or deviations.         | \\(\\text{MSE}(x, y) = \\frac{1}{n} \\sum_{i=1}^n (x_i - y_i)^2\\)                                                    |\n",
    "| `nn.L1Loss`                   | Mean Absolute Error Loss. Measures the mean absolute error between each element in the input and target. | \\(\\text{L1}(x, y) = \\frac{1}{n} \\sum_{i=1}^n |x_i - y_i|\\)                                                        |\n",
    "| `nn.BCELoss`                  | Binary Cross Entropy Loss. It is used for binary classification tasks.                           | \\(\\text{BCE}(x, y) = -\\frac{1}{n} \\sum_{i=1}^n [y_i \\log(x_i) + (1 - y_i) \\log(1 - x_i)]\\)                       |\n",
    "| `nn.BCEWithLogitsLoss`        | Combines a `Sigmoid` layer and the `BCELoss` in one single class.                                | \\(\\text{BCEWithLogits}(x, y) = \\text{BCE}(\\sigma(x), y)\\) where \\(\\sigma(x) = \\frac{1}{1 + \\exp(-x)}\\)           |\n",
    "| `nn.SmoothL1Loss`             | Combines advantages of L1Loss and MSELoss, less sensitive to outliers than MSELoss.              | \\(\\text{SmoothL1}(x, y) = \\frac{1}{n} \\sum_{i=1}^n z_i\\) where \\(z_i = \\begin{cases} \\frac{1}{2}(x_i - y_i)^2 & \\text{if } |x_i - y_i| < 1 \\\\ |x_i - y_i| - \\frac{1}{2} & \\text{otherwise} \\end{cases}\\) |\n",
    " "
   ]
  },
  {
   "cell_type": "markdown",
   "metadata": {},
   "source": [
    "## Optimizer\n",
    "\n",
    "Gradient descent is one of the optimizer that we use in adjusting the model parameters to reduce the model error in each training step.\n",
    "\n",
    "Once we find the gradient of parameters with respect to the loss function. We pass the gradients to the optimizers and it updates the parameters of the model.\n",
    "\n",
    "Some of the optimizers are :\n",
    "\n",
    "* Gradient Descent\n",
    "* Stochastic Gradient Descent\n",
    "* ADAM\n",
    "* RMSProp"
   ]
  },
  {
   "cell_type": "markdown",
   "metadata": {},
   "source": [
    "\n",
    "#### Gradient Descent Optimizer\n",
    " \n",
    "Gradient descent is an iterative optimization algorithm widely employed in machine learning to minimize a cost or loss function. The objective is to find the values of model parameters that result in the lowest possible cost. The algorithm begins with an initial guess for the parameters and iteratively updates them by moving in the direction opposite to the steepest ascent of the cost function, as indicated by the gradient. The update is proportional to the negative gradient and is controlled by a learning rate, determining the step size at each iteration. This process continues until convergence, where the change in parameters becomes negligible, signifying a minimum or plateau. The learning rate is a critical factor, influencing the algorithm's convergence speed and stability.\n",
    "\n",
    "\n",
    "\n",
    "![gradient_descent](./images/gradient_descent.png)"
   ]
  },
  {
   "cell_type": "markdown",
   "metadata": {},
   "source": [
    "**Types of Gradient Descent:**\n",
    "\n",
    "    * Batch Gradient Descent: Updates are made using the entire dataset.\n",
    "\n",
    "    * Stochastic Gradient Descent (SGD): Updates are made using only one randomly chosen data point at a time.\n",
    "    \n",
    "    * Mini-batch Gradient Descent: Updates are made using a small random subset of the dataset.\n",
    "\n",
    "\n",
    "![gradient_types](./images/gradient_descent_types.png)"
   ]
  },
  {
   "cell_type": "markdown",
   "metadata": {},
   "source": [
    "Lets call the `Stochastic Gradient Descent` optimizer"
   ]
  },
  {
   "cell_type": "markdown",
   "metadata": {},
   "source": [
    "```python\n",
    "optimizer = torch.optim.SGD(model.parameters(), lr= learning_rate)\n",
    "```\n",
    "\n",
    "If we want to reset the gradient of model parameters to zero, then we do\n",
    "\n",
    "```python\n",
    "optimizer.zero_grad()\n",
    "```"
   ]
  },
  {
   "cell_type": "markdown",
   "metadata": {},
   "source": [
    "## Complete Neural Network in Pytorch"
   ]
  },
  {
   "cell_type": "code",
   "execution_count": 184,
   "metadata": {},
   "outputs": [],
   "source": [
    "import torch\n",
    "from torch import nn\n",
    "import matplotlib.pyplot as plt"
   ]
  },
  {
   "cell_type": "markdown",
   "metadata": {},
   "source": [
    "### Loading the datasets"
   ]
  },
  {
   "cell_type": "code",
   "execution_count": 185,
   "metadata": {},
   "outputs": [],
   "source": [
    "from torchvision import datasets\n",
    "from torchvision.transforms import ToTensor\n",
    "\n",
    "# Download training data from open datasets.\n",
    "training_data = datasets.FashionMNIST(\n",
    "    root=\"data\",\n",
    "    train=True,\n",
    "    download=True,\n",
    "    transform=ToTensor(), # Read file and convert image to Tensor\n",
    ")\n",
    "\n",
    "# Download test data from open datasets.\n",
    "test_data = datasets.FashionMNIST(\n",
    "    root=\"data\",\n",
    "    train=False,\n",
    "    download=True,\n",
    "    transform=ToTensor(),\n",
    ")"
   ]
  },
  {
   "cell_type": "markdown",
   "metadata": {},
   "source": [
    "### Seeing Datasize "
   ]
  },
  {
   "cell_type": "code",
   "execution_count": 186,
   "metadata": {},
   "outputs": [
    {
     "name": "stdout",
     "output_type": "stream",
     "text": [
      "torch.Size([60000, 28, 28])\n",
      "torch.Size([10000, 28, 28])\n"
     ]
    }
   ],
   "source": [
    "print(training_data.data.shape)\n",
    "print(test_data.data.shape)"
   ]
  },
  {
   "cell_type": "code",
   "execution_count": 187,
   "metadata": {},
   "outputs": [
    {
     "data": {
      "text/plain": [
       "{'root': 'data',\n",
       " 'transform': ToTensor(),\n",
       " 'target_transform': None,\n",
       " 'transforms': StandardTransform\n",
       " Transform: ToTensor(),\n",
       " 'train': True,\n",
       " 'data': tensor([[[0, 0, 0,  ..., 0, 0, 0],\n",
       "          [0, 0, 0,  ..., 0, 0, 0],\n",
       "          [0, 0, 0,  ..., 0, 0, 0],\n",
       "          ...,\n",
       "          [0, 0, 0,  ..., 0, 0, 0],\n",
       "          [0, 0, 0,  ..., 0, 0, 0],\n",
       "          [0, 0, 0,  ..., 0, 0, 0]],\n",
       " \n",
       "         [[0, 0, 0,  ..., 0, 0, 0],\n",
       "          [0, 0, 0,  ..., 0, 0, 0],\n",
       "          [0, 0, 0,  ..., 0, 0, 0],\n",
       "          ...,\n",
       "          [0, 0, 0,  ..., 0, 0, 0],\n",
       "          [0, 0, 0,  ..., 0, 0, 0],\n",
       "          [0, 0, 0,  ..., 0, 0, 0]],\n",
       " \n",
       "         [[0, 0, 0,  ..., 0, 0, 0],\n",
       "          [0, 0, 0,  ..., 0, 0, 0],\n",
       "          [0, 0, 0,  ..., 0, 0, 0],\n",
       "          ...,\n",
       "          [0, 0, 0,  ..., 0, 0, 0],\n",
       "          [0, 0, 0,  ..., 0, 0, 0],\n",
       "          [0, 0, 0,  ..., 0, 0, 0]],\n",
       " \n",
       "         ...,\n",
       " \n",
       "         [[0, 0, 0,  ..., 0, 0, 0],\n",
       "          [0, 0, 0,  ..., 0, 0, 0],\n",
       "          [0, 0, 0,  ..., 0, 0, 0],\n",
       "          ...,\n",
       "          [0, 0, 0,  ..., 0, 0, 0],\n",
       "          [0, 0, 0,  ..., 0, 0, 0],\n",
       "          [0, 0, 0,  ..., 0, 0, 0]],\n",
       " \n",
       "         [[0, 0, 0,  ..., 0, 0, 0],\n",
       "          [0, 0, 0,  ..., 0, 0, 0],\n",
       "          [0, 0, 0,  ..., 0, 0, 0],\n",
       "          ...,\n",
       "          [0, 0, 0,  ..., 0, 0, 0],\n",
       "          [0, 0, 0,  ..., 0, 0, 0],\n",
       "          [0, 0, 0,  ..., 0, 0, 0]],\n",
       " \n",
       "         [[0, 0, 0,  ..., 0, 0, 0],\n",
       "          [0, 0, 0,  ..., 0, 0, 0],\n",
       "          [0, 0, 0,  ..., 0, 0, 0],\n",
       "          ...,\n",
       "          [0, 0, 0,  ..., 0, 0, 0],\n",
       "          [0, 0, 0,  ..., 0, 0, 0],\n",
       "          [0, 0, 0,  ..., 0, 0, 0]]], dtype=torch.uint8),\n",
       " 'targets': tensor([9, 0, 0,  ..., 3, 0, 5])}"
      ]
     },
     "execution_count": 187,
     "metadata": {},
     "output_type": "execute_result"
    }
   ],
   "source": [
    "training_data.__dict__ "
   ]
  },
  {
   "cell_type": "code",
   "execution_count": 188,
   "metadata": {},
   "outputs": [
    {
     "data": {
      "text/plain": [
       "torch.Size([60000])"
      ]
     },
     "execution_count": 188,
     "metadata": {},
     "output_type": "execute_result"
    }
   ],
   "source": [
    "training_data.targets.shape"
   ]
  },
  {
   "cell_type": "markdown",
   "metadata": {},
   "source": [
    "### Finding total class in the datasets"
   ]
  },
  {
   "cell_type": "code",
   "execution_count": 189,
   "metadata": {},
   "outputs": [
    {
     "name": "stdout",
     "output_type": "stream",
     "text": [
      "The total classes in the dataset is : 10 \n"
     ]
    }
   ],
   "source": [
    "n_classes = len(torch.unique(training_data.targets))\n",
    "print(\"The total classes in the dataset is : {} \".format(len(torch.unique(training_data.targets))))"
   ]
  },
  {
   "cell_type": "markdown",
   "metadata": {},
   "source": [
    "### Histogram Plot for each class data\n",
    "\n",
    "We can see from the histogram plot below all the classes are equally distributed"
   ]
  },
  {
   "cell_type": "code",
   "execution_count": 190,
   "metadata": {},
   "outputs": [
    {
     "data": {
      "image/png": "[encoded data removed]",
      "text/plain": [
       "<Figure size 640x480 with 1 Axes>"
      ]
     },
     "metadata": {},
     "output_type": "display_data"
    }
   ],
   "source": [
    "plt.hist(training_data.targets, bins= 20)\n",
    "plt.show()"
   ]
  },
  {
   "cell_type": "markdown",
   "metadata": {},
   "source": [
    "### Splitting Data into training and validation"
   ]
  },
  {
   "cell_type": "code",
   "execution_count": 191,
   "metadata": {},
   "outputs": [
    {
     "name": "stdout",
     "output_type": "stream",
     "text": [
      "50000\n",
      "10000\n"
     ]
    }
   ],
   "source": [
    "training_data, val_data = torch.utils.data.random_split(training_data, [50000, 10000])\n",
    "print(len(training_data.indices))\n",
    "print(len(val_data.indices))"
   ]
  },
  {
   "cell_type": "code",
   "execution_count": 192,
   "metadata": {},
   "outputs": [
    {
     "data": {
      "text/plain": [
       "<torch.utils.data.dataset.Subset at 0x76bd80cd1cf0>"
      ]
     },
     "execution_count": 192,
     "metadata": {},
     "output_type": "execute_result"
    }
   ],
   "source": [
    "training_data"
   ]
  },
  {
   "cell_type": "markdown",
   "metadata": {},
   "source": [
    "### Visualizing dataset"
   ]
  },
  {
   "cell_type": "code",
   "execution_count": 193,
   "metadata": {},
   "outputs": [
    {
     "data": {
      "image/png": "[encoded data removed]",
      "text/plain": [
       "<Figure size 1000x1000 with 10 Axes>"
      ]
     },
     "metadata": {},
     "output_type": "display_data"
    }
   ],
   "source": [
    "# plot first few images\n",
    "plt.figure(figsize=(10,10))\n",
    "for i in range(10):\n",
    "  plt.subplot(5,5,i+1)\n",
    "  plt.xticks([])\n",
    "  plt.yticks([])\n",
    "  plt.imshow(training_data[i][0][0], cmap=plt.cm.binary) \n",
    "  plt.title(training_data[i][1]) \n",
    "plt.show() "
   ]
  },
  {
   "cell_type": "markdown",
   "metadata": {},
   "source": [
    "### Creating Data loader"
   ]
  },
  {
   "cell_type": "code",
   "execution_count": 194,
   "metadata": {},
   "outputs": [],
   "source": [
    "batch_size = 128\n",
    "\n",
    "from torch.utils.data import DataLoader\n",
    "\n",
    "# we shuffle during training only\n",
    "train_dataloader = DataLoader(training_data, batch_size=batch_size, shuffle=True)\n",
    "val_dataloader = DataLoader(val_data, batch_size=batch_size)\n",
    "test_dataloader = DataLoader(test_data, batch_size=batch_size)"
   ]
  },
  {
   "cell_type": "markdown",
   "metadata": {},
   "source": [
    "### Defining training and evaluating functions"
   ]
  },
  {
   "cell_type": "code",
   "execution_count": 195,
   "metadata": {},
   "outputs": [],
   "source": [
    "def train_loop(dataloader, model, loss_fn, optimizer):\n",
    "    size = len(dataloader.dataset)\n",
    "\n",
    "    model.train()\n",
    "    \n",
    "    for batch, (X, y) in enumerate(dataloader):\n",
    "        # Compute prediction and loss\n",
    "        pred = model(X)\n",
    "        loss = loss_fn(pred, y)\n",
    "\n",
    "        # Backpropagation\n",
    "        loss.backward() # Perform backward propagation\n",
    "        optimizer.step()  # Perform gradient update\n",
    "        optimizer.zero_grad() # Remove any previous gradient calculation done by optimizer\n",
    "         \n",
    "\n",
    "        if batch % 100 == 0:\n",
    "            loss, current = loss.item(), batch * batch_size + len(X)\n",
    "            print(f\"loss: {loss:>7f}  [{current:>5d}/{size:>5d}]\")\n",
    "\n",
    "\n",
    "def val_loop(dataloader, model, loss_fn):\n",
    "\n",
    "    model.eval()\n",
    "    size = len(dataloader.dataset)\n",
    "    num_batches = len(dataloader)\n",
    "    test_loss, correct = 0, 0\n",
    "\n",
    "    # Evaluating the model with torch.no_grad() ensures that no gradients are computed during test mode\n",
    "    # also serves to reduce unnecessary gradient computations and memory usage for tensors with requires_grad=True\n",
    "    with torch.no_grad():\n",
    "        for X, y in dataloader:\n",
    "            pred = model(X)\n",
    "            test_loss += loss_fn(pred, y).item()\n",
    "            correct += (pred.argmax(1) == y).type(torch.float).sum().item()\n",
    "\n",
    "    test_loss /= num_batches\n",
    "    correct /= size\n",
    "    print(f\"Test Error: \\n Accuracy: {(100*correct):>0.1f}%, Avg loss: {test_loss:>8f} \\n\")"
   ]
  },
  {
   "cell_type": "markdown",
   "metadata": {},
   "source": [
    "### Defining hyperparameters"
   ]
  },
  {
   "cell_type": "code",
   "execution_count": 196,
   "metadata": {},
   "outputs": [],
   "source": [
    "import numpy as np\n",
    "\n",
    "# the model here will be made of 1 input layer, 3 hidden layers and 1 ouput layer.\n",
    "input_size= 28 * 28\n",
    "output_size = n_classes\n",
    "hidden_1_shape=128\n",
    "hidden_2_shape=64\n",
    "hidden_3_shape=32"
   ]
  },
  {
   "cell_type": "code",
   "execution_count": 197,
   "metadata": {},
   "outputs": [
    {
     "name": "stdout",
     "output_type": "stream",
     "text": [
      "NeuralNetwork(\n",
      "  (flatten): Flatten(start_dim=1, end_dim=-1)\n",
      "  (stacked_layers): Sequential(\n",
      "    (0): Linear(in_features=784, out_features=128, bias=True)\n",
      "    (1): ReLU()\n",
      "    (2): Linear(in_features=128, out_features=64, bias=True)\n",
      "    (3): ReLU()\n",
      "    (4): Linear(in_features=64, out_features=32, bias=True)\n",
      "    (5): ReLU()\n",
      "    (6): Linear(in_features=32, out_features=10, bias=True)\n",
      "  )\n",
      ")\n"
     ]
    }
   ],
   "source": [
    "# building model by stacking layers\n",
    "class NeuralNetwork(nn.Module):\n",
    "    def __init__(self):\n",
    "        super().__init__()\n",
    "        self.flatten = nn.Flatten()\n",
    "        self.stacked_layers = nn.Sequential(\n",
    "            nn.Linear(input_size, hidden_1_shape),\n",
    "            nn.ReLU(),\n",
    "            nn.Linear(hidden_1_shape, hidden_2_shape),\n",
    "            nn.ReLU(),\n",
    "            nn.Linear(hidden_2_shape, hidden_3_shape),\n",
    "            nn.ReLU(),\n",
    "            nn.Linear(hidden_3_shape, output_size),\n",
    "        )\n",
    "    \n",
    "    def forward(self, inputs):\n",
    "        return self.stacked_layers(self.flatten(inputs))\n",
    "\n",
    "model= NeuralNetwork()\n",
    "print(model)"
   ]
  },
  {
   "cell_type": "markdown",
   "metadata": {},
   "source": [
    "### Selecting Loss Function and optimizer"
   ]
  },
  {
   "cell_type": "code",
   "execution_count": 198,
   "metadata": {},
   "outputs": [],
   "source": [
    "loss_func = nn.CrossEntropyLoss()\n",
    "optimizer = torch.optim.SGD(model.parameters())"
   ]
  },
  {
   "cell_type": "markdown",
   "metadata": {},
   "source": [
    "### Model Training"
   ]
  },
  {
   "cell_type": "code",
   "execution_count": 199,
   "metadata": {},
   "outputs": [
    {
     "name": "stdout",
     "output_type": "stream",
     "text": [
      "Epoch 1\n",
      "-------------------------------\n",
      "loss: 2.305952  [  128/50000]\n",
      "loss: 2.302813  [12928/50000]\n",
      "loss: 2.301071  [25728/50000]\n",
      "loss: 2.315879  [38528/50000]\n",
      "Test Error: \n",
      " Accuracy: 9.6%, Avg loss: 2.299687 \n",
      "\n",
      "Epoch 2\n",
      "-------------------------------\n",
      "loss: 2.300497  [  128/50000]\n",
      "loss: 2.293708  [12928/50000]\n",
      "loss: 2.293266  [25728/50000]\n",
      "loss: 2.290909  [38528/50000]\n",
      "Test Error: \n",
      " Accuracy: 12.3%, Avg loss: 2.291650 \n",
      "\n",
      "Epoch 3\n",
      "-------------------------------\n",
      "loss: 2.297634  [  128/50000]\n",
      "loss: 2.285992  [12928/50000]\n",
      "loss: 2.288657  [25728/50000]\n",
      "loss: 2.281723  [38528/50000]\n",
      "Test Error: \n",
      " Accuracy: 14.6%, Avg loss: 2.282843 \n",
      "\n",
      "Epoch 4\n",
      "-------------------------------\n",
      "loss: 2.276761  [  128/50000]\n",
      "loss: 2.279216  [12928/50000]\n",
      "loss: 2.268854  [25728/50000]\n",
      "loss: 2.277230  [38528/50000]\n",
      "Test Error: \n",
      " Accuracy: 15.9%, Avg loss: 2.272517 \n",
      "\n",
      "Epoch 5\n",
      "-------------------------------\n",
      "loss: 2.273249  [  128/50000]\n",
      "loss: 2.272851  [12928/50000]\n",
      "loss: 2.246687  [25728/50000]\n",
      "loss: 2.252822  [38528/50000]\n",
      "Test Error: \n",
      " Accuracy: 18.5%, Avg loss: 2.259655 \n",
      "\n",
      "Epoch 6\n",
      "-------------------------------\n",
      "loss: 2.260425  [  128/50000]\n",
      "loss: 2.255873  [12928/50000]\n",
      "loss: 2.244702  [25728/50000]\n",
      "loss: 2.259542  [38528/50000]\n",
      "Test Error: \n",
      " Accuracy: 24.6%, Avg loss: 2.242999 \n",
      "\n",
      "Epoch 7\n",
      "-------------------------------\n",
      "loss: 2.248362  [  128/50000]\n",
      "loss: 2.230085  [12928/50000]\n",
      "loss: 2.240966  [25728/50000]\n",
      "loss: 2.216424  [38528/50000]\n",
      "Test Error: \n",
      " Accuracy: 27.5%, Avg loss: 2.221763 \n",
      "\n",
      "Epoch 8\n",
      "-------------------------------\n",
      "loss: 2.206414  [  128/50000]\n",
      "loss: 2.215901  [12928/50000]\n",
      "loss: 2.199427  [25728/50000]\n",
      "loss: 2.197725  [38528/50000]\n",
      "Test Error: \n",
      " Accuracy: 28.4%, Avg loss: 2.195254 \n",
      "\n",
      "Epoch 9\n",
      "-------------------------------\n",
      "loss: 2.203664  [  128/50000]\n",
      "loss: 2.184523  [12928/50000]\n",
      "loss: 2.175229  [25728/50000]\n",
      "loss: 2.154769  [38528/50000]\n",
      "Test Error: \n",
      " Accuracy: 28.2%, Avg loss: 2.163396 \n",
      "\n",
      "Epoch 10\n",
      "-------------------------------\n",
      "loss: 2.160199  [  128/50000]\n",
      "loss: 2.161345  [12928/50000]\n",
      "loss: 2.113839  [25728/50000]\n",
      "loss: 2.114237  [38528/50000]\n",
      "Test Error: \n",
      " Accuracy: 30.9%, Avg loss: 2.127311 \n",
      "\n",
      "Done!\n"
     ]
    }
   ],
   "source": [
    "epochs = 10\n",
    "for t in range(epochs):\n",
    "    print(f\"Epoch {t+1}\\n-------------------------------\")\n",
    "    train_loop(train_dataloader, model, loss_func, optimizer)\n",
    "    val_loop(val_dataloader, model, loss_func)\n",
    "print(\"Done!\")"
   ]
  },
  {
   "cell_type": "markdown",
   "metadata": {},
   "source": [
    "## Saving and Loading model"
   ]
  },
  {
   "cell_type": "code",
   "execution_count": 200,
   "metadata": {},
   "outputs": [],
   "source": [
    "import torchvision.models as models"
   ]
  },
  {
   "cell_type": "markdown",
   "metadata": {},
   "source": [
    "PyTorch models store the learned parameters in an internal state dictionary, called state_dict."
   ]
  },
  {
   "cell_type": "code",
   "execution_count": 201,
   "metadata": {},
   "outputs": [],
   "source": [
    "torch.save(model.state_dict(), 'model/path/weight.pth')"
   ]
  },
  {
   "cell_type": "markdown",
   "metadata": {},
   "source": [
    "#### Loading the model"
   ]
  },
  {
   "cell_type": "code",
   "execution_count": null,
   "metadata": {},
   "outputs": [],
   "source": [
    "model.load_state_dict(torch.load('model/path/weight.pth'))"
   ]
  }
 ],
 "metadata": {
  "kernelspec": {
   "display_name": "ekbana",
   "language": "python",
   "name": "python3"
  },
  "language_info": {
   "codemirror_mode": {
    "name": "ipython",
    "version": 3
   },
   "file_extension": ".py",
   "mimetype": "text/x-python",
   "name": "python",
   "nbconvert_exporter": "python",
   "pygments_lexer": "ipython3",
   "version": "3.10.12"
  }
 },
 "nbformat": 4,
 "nbformat_minor": 2
}
